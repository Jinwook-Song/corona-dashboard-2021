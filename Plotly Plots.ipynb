{
 "cells": [
  {
   "cell_type": "code",
   "execution_count": 30,
   "id": "d69d24f0",
   "metadata": {},
   "outputs": [
    {
     "name": "stdout",
     "output_type": "stream",
     "text": [
      "  Country_Region  Confirmed  Deaths   Recovered\n",
      "0             US   33474734  599946         0.0\n",
      "1          India   29570881  377031  28280472.0\n",
      "2         Brazil   17452612  488228  15421397.0\n",
      "3         France    5803012  110616    399560.0\n",
      "4         Turkey    5336073   48795   5206836.0\n"
     ]
    },
    {
     "data": {
      "application/vnd.plotly.v1+json": {
       "config": {
        "plotlyServerURL": "https://plot.ly"
       },
       "data": [
        {
         "customdata": [
          [
           33474734,
           599946,
           0,
           "US"
          ],
          [
           29570881,
           377031,
           28280472,
           "India"
          ],
          [
           17452612,
           488228,
           15421397,
           "Brazil"
          ],
          [
           5803012,
           110616,
           399560,
           "France"
          ],
          [
           5336073,
           48795,
           5206836,
           "Turkey"
          ],
          [
           5162049,
           124681,
           4754036,
           "Russia"
          ],
          [
           4589400,
           128171,
           15562,
           "United Kingdom"
          ],
          [
           4245779,
           127038,
           3960951,
           "Italy"
          ],
          [
           4145482,
           86029,
           3748794,
           "Argentina"
          ],
          [
           3777600,
           96366,
           3510709,
           "Colombia"
          ],
          [
           3741767,
           80517,
           150376,
           "Spain"
          ],
          [
           3724168,
           89944,
           3585660,
           "Germany"
          ],
          [
           3039432,
           82217,
           2666601,
           "Iran"
          ],
          [
           2877608,
           74574,
           2648859,
           "Poland"
          ],
          [
           2455351,
           230187,
           1956575,
           "Mexico"
          ],
          [
           2284337,
           53812,
           2186276,
           "Ukraine"
          ],
          [
           2003625,
           188708,
           1962124,
           "Peru"
          ],
          [
           1919547,
           53116,
           1751234,
           "Indonesia"
          ],
          [
           1752630,
           57879,
           1611447,
           "South Africa"
          ],
          [
           1701124,
           17993,
           27130,
           "Netherlands"
          ],
          [
           1665138,
           30229,
           1630452,
           "Czechia"
          ],
          [
           1482663,
           30804,
           1406555,
           "Chile"
          ],
          [
           1410828,
           25921,
           1368941,
           "Canada"
          ],
          [
           1322053,
           22845,
           1240112,
           "Philippines"
          ],
          [
           1259683,
           16736,
           1176576,
           "Iraq"
          ],
          [
           1083456,
           14574,
           0,
           "Sweden"
          ],
          [
           1079776,
           31861,
           1044404,
           "Romania"
          ],
          [
           1076579,
           25093,
           0,
           "Belgium"
          ],
          [
           943027,
           21782,
           880316,
           "Pakistan"
          ],
          [
           858072,
           17047,
           815622,
           "Portugal"
          ],
          [
           839690,
           6428,
           832947,
           "Israel"
          ],
          [
           829972,
           13172,
           768830,
           "Bangladesh"
          ],
          [
           807045,
           29925,
           730588,
           "Hungary"
          ],
          [
           776565,
           14083,
           730290,
           "Japan"
          ],
          [
           743877,
           9602,
           726932,
           "Jordan"
          ],
          [
           715015,
           6970,
           0,
           "Serbia"
          ],
          [
           700735,
           10861,
           317600,
           "Switzerland"
          ],
          [
           662457,
           3968,
           586864,
           "Malaysia"
          ],
          [
           648732,
           10662,
           634123,
           "Austria"
          ],
          [
           610521,
           8465,
           536252,
           "Nepal"
          ],
          [
           599823,
           1730,
           579045,
           "United Arab Emirates"
          ],
          [
           542649,
           7801,
           527645,
           "Lebanon"
          ],
          [
           523999,
           9213,
           511440,
           "Morocco"
          ],
          [
           466906,
           7590,
           449241,
           "Saudi Arabia"
          ],
          [
           459212,
           3502,
           430412,
           "Kazakhstan"
          ],
          [
           439139,
           21051,
           398645,
           "Ecuador"
          ],
          [
           420493,
           17915,
           390388,
           "Bulgaria"
          ],
          [
           415401,
           12437,
           93764,
           "Greece"
          ],
          [
           409106,
           15614,
           324028,
           "Bolivia"
          ],
          [
           406360,
           2987,
           399174,
           "Belarus"
          ],
          [
           393482,
           10954,
           327670,
           "Paraguay"
          ],
          [
           391038,
           12441,
           255300,
           "Slovakia"
          ],
          [
           388325,
           6451,
           372341,
           "Panama"
          ],
          [
           370224,
           13567,
           323201,
           "Tunisia"
          ],
          [
           358581,
           8152,
           349582,
           "Croatia"
          ],
          [
           354276,
           5060,
           340328,
           "Georgia"
          ],
          [
           343604,
           4388,
           262852,
           "Costa Rica"
          ],
          [
           340818,
           5036,
           303880,
           "Uruguay"
          ],
          [
           335196,
           4955,
           328699,
           "Azerbaijan"
          ],
          [
           329526,
           1828,
           311559,
           "Kuwait"
          ],
          [
           311690,
           3539,
           304138,
           "West Bank and Gaza"
          ],
          [
           309477,
           3708,
           252803,
           "Dominican Republic"
          ],
          [
           290912,
           2527,
           279839,
           "Denmark"
          ],
          [
           277812,
           4342,
           263442,
           "Lithuania"
          ],
          [
           274346,
           4250,
           251107,
           "Ethiopia"
          ],
          [
           273795,
           15654,
           201739,
           "Egypt"
          ],
          [
           271990,
           8465,
           247134,
           "Guatemala"
          ],
          [
           267006,
           4941,
           23364,
           "Ireland"
          ],
          [
           259523,
           1236,
           246074,
           "Bahrain"
          ],
          [
           256467,
           4406,
           249321,
           "Slovenia"
          ],
          [
           255830,
           6154,
           248733,
           "Moldova"
          ],
          [
           252883,
           2845,
           233028,
           "Venezuela"
          ],
          [
           248115,
           6653,
           89324,
           "Honduras"
          ],
          [
           236440,
           2532,
           211494,
           "Oman"
          ],
          [
           225922,
           2260,
           190464,
           "Sri Lanka"
          ],
          [
           223723,
           4488,
           215228,
           "Armenia"
          ],
          [
           219887,
           579,
           217143,
           "Qatar"
          ],
          [
           204668,
           9495,
           177976,
           "Bosnia and Herzegovina"
          ],
          [
           199264,
           1466,
           26873,
           "Thailand"
          ],
          [
           189284,
           3165,
           174976,
           "Libya"
          ],
          [
           175681,
           3421,
           120359,
           "Kenya"
          ],
          [
           167078,
           2117,
           163469,
           "Nigeria"
          ],
          [
           159057,
           1098,
           150855,
           "Cuba"
          ],
          [
           155540,
           5472,
           149642,
           "North Macedonia"
          ],
          [
           148647,
           1992,
           139733,
           "Korea, South"
          ],
          [
           145826,
           3248,
           132969,
           "Burma"
          ],
          [
           136104,
           2456,
           130823,
           "Latvia"
          ],
          [
           133742,
           3579,
           93094,
           "Algeria"
          ],
          [
           132461,
           2453,
           129865,
           "Albania"
          ],
          [
           130538,
           1266,
           125798,
           "Estonia"
          ],
          [
           128277,
           789,
           17998,
           "Norway"
          ],
          [
           113134,
           1416,
           98994,
           "Zambia"
          ],
          [
           110829,
           1899,
           102890,
           "Kyrgyzstan"
          ],
          [
           107175,
           2255,
           104772,
           "Kosovo"
          ],
          [
           103813,
           708,
           99733,
           "Uzbekistan"
          ],
          [
           103401,
           4846,
           98003,
           "China"
          ],
          [
           99964,
           1602,
           97951,
           "Montenegro"
          ],
          [
           94493,
           789,
           92589,
           "Ghana"
          ],
          [
           93850,
           964,
           46000,
           "Finland"
          ],
          [
           91458,
           3612,
           61706,
           "Afghanistan"
          ],
          [
           80090,
           1310,
           35261,
           "Cameroon"
          ],
          [
           78347,
           369,
           57025,
           "Mongolia"
          ],
          [
           75351,
           2299,
           70150,
           "El Salvador"
          ],
          [
           73247,
           374,
           39061,
           "Cyprus"
          ],
          [
           71568,
           841,
           69889,
           "Mozambique"
          ],
          [
           70673,
           198,
           61761,
           "Maldives"
          ],
          [
           70445,
           818,
           69129,
           "Luxembourg"
          ],
          [
           65815,
           1008,
           55187,
           "Namibia"
          ],
          [
           63099,
           434,
           48480,
           "Uganda"
          ],
          [
           62301,
           34,
           61894,
           "Singapore"
          ],
          [
           61457,
           926,
           56798,
           "Botswana"
          ],
          [
           49356,
           1011,
           27732,
           "Jamaica"
          ],
          [
           47760,
           306,
           47239,
           "Cote d'Ivoire"
          ],
          [
           42023,
           1155,
           40591,
           "Senegal"
          ],
          [
           41948,
           889,
           40264,
           "Madagascar"
          ],
          [
           40077,
           1635,
           37027,
           "Zimbabwe"
          ],
          [
           38969,
           348,
           32967,
           "Cambodia"
          ],
          [
           36790,
           836,
           30359,
           "Angola"
          ],
          [
           36304,
           2732,
           29994,
           "Sudan"
          ],
          [
           35668,
           846,
           27849,
           "Congo (Kinshasa)"
          ],
          [
           34564,
           1159,
           32753,
           "Malawi"
          ],
          [
           31647,
           276,
           30542,
           "Cabo Verde"
          ],
          [
           30582,
           419,
           30109,
           "Malta"
          ],
          [
           30273,
           910,
           23692,
           "Australia"
          ],
          [
           28982,
           677,
           19141,
           "Trinidad and Tobago"
          ],
          [
           28614,
           372,
           26383,
           "Rwanda"
          ],
          [
           24860,
           1815,
           21682,
           "Syria"
          ],
          [
           24755,
           157,
           23910,
           "Gabon"
          ],
          [
           23398,
           167,
           21488,
           "Guinea"
          ],
          [
           20109,
           476,
           19181,
           "Mauritania"
          ],
          [
           18746,
           676,
           17952,
           "Eswatini"
          ],
          [
           18599,
           412,
           14172,
           "Suriname"
          ],
          [
           18446,
           430,
           16313,
           "Guyana"
          ],
          [
           16682,
           165,
           16017,
           "Papua New Guinea"
          ],
          [
           16561,
           355,
           12563,
           "Haiti"
          ],
          [
           14817,
           774,
           7043,
           "Somalia"
          ],
          [
           14352,
           523,
           9959,
           "Mali"
          ],
          [
           13826,
           127,
           13618,
           "Andorra"
          ],
          [
           13631,
           126,
           13308,
           "Togo"
          ],
          [
           13630,
           50,
           12173,
           "Seychelles"
          ],
          [
           13459,
           167,
           13272,
           "Burkina Faso"
          ],
          [
           13308,
           90,
           13218,
           "Tajikistan"
          ],
          [
           13106,
           452,
           1133,
           "Taiwan*"
          ],
          [
           12971,
           326,
           12479,
           "Belize"
          ],
          [
           12199,
           237,
           11136,
           "Bahamas"
          ],
          [
           12121,
           160,
           11211,
           "Congo (Brazzaville)"
          ],
          [
           11575,
           154,
           11405,
           "Djibouti"
          ],
          [
           10923,
           326,
           6443,
           "Lesotho"
          ],
          [
           10881,
           59,
           4236,
           "Vietnam"
          ],
          [
           10688,
           115,
           10514,
           "South Sudan"
          ],
          [
           8662,
           120,
           8413,
           "Equatorial Guinea"
          ],
          [
           8341,
           19,
           6833,
           "Timor-Leste"
          ],
          [
           8109,
           102,
           7979,
           "Benin"
          ],
          [
           7662,
           188,
           4225,
           "Nicaragua"
          ],
          [
           7101,
           98,
           6859,
           "Central African Republic"
          ],
          [
           6863,
           1350,
           3765,
           "Yemen"
          ],
          [
           6555,
           29,
           6476,
           "Iceland"
          ],
          [
           6016,
           180,
           5822,
           "Gambia"
          ],
          [
           5452,
           192,
           5172,
           "Niger"
          ],
          [
           5180,
           80,
           5006,
           "Saint Lucia"
          ],
          [
           5090,
           90,
           4999,
           "San Marino"
          ],
          [
           5026,
           8,
           773,
           "Burundi"
          ],
          [
           4981,
           16,
           4420,
           "Eritrea"
          ],
          [
           4943,
           174,
           4767,
           "Chad"
          ],
          [
           4433,
           82,
           3184,
           "Sierra Leone"
          ],
          [
           4037,
           47,
           3971,
           "Barbados"
          ],
          [
           3901,
           146,
           3738,
           "Comoros"
          ],
          [
           3803,
           69,
           3548,
           "Guinea-Bissau"
          ],
          [
           3026,
           59,
           2948,
           "Liechtenstein"
          ],
          [
           2709,
           26,
           2656,
           "New Zealand"
          ],
          [
           2575,
           94,
           2099,
           "Liberia"
          ],
          [
           2526,
           33,
           2473,
           "Monaco"
          ],
          [
           2358,
           37,
           2307,
           "Sao Tome and Principe"
          ],
          [
           2156,
           12,
           1898,
           "Saint Vincent and the Grenadines"
          ],
          [
           2010,
           3,
           1880,
           "Laos"
          ],
          [
           1826,
           1,
           1467,
           "Bhutan"
          ],
          [
           1701,
           18,
           1265,
           "Mauritius"
          ],
          [
           1263,
           42,
           1214,
           "Antigua and Barbuda"
          ],
          [
           1206,
           4,
           335,
           "Fiji"
          ],
          [
           712,
           13,
           699,
           "Diamond Princess"
          ],
          [
           509,
           21,
           183,
           "Tanzania"
          ],
          [
           248,
           3,
           239,
           "Brunei"
          ],
          [
           189,
           0,
           188,
           "Dominica"
          ],
          [
           161,
           1,
           160,
           "Grenada"
          ],
          [
           155,
           0,
           61,
           "Saint Kitts and Nevis"
          ],
          [
           27,
           0,
           27,
           "Holy See"
          ],
          [
           20,
           0,
           20,
           "Solomon Islands"
          ],
          [
           9,
           2,
           7,
           "MS Zaandam"
          ],
          [
           4,
           1,
           3,
           "Vanuatu"
          ],
          [
           4,
           0,
           4,
           "Marshall Islands"
          ],
          [
           3,
           0,
           3,
           "Samoa"
          ],
          [
           2,
           0,
           0,
           "Kiribati"
          ],
          [
           1,
           0,
           1,
           "Micronesia"
          ]
         ],
         "geo": "geo",
         "hovertemplate": "<b>%{hovertext}</b><br><br>Confirmed=%{marker.color:,2f}<br>Deaths=%{customdata[1]:,2f}<br>Recovered=%{customdata[2]:,2f}<extra></extra>",
         "hovertext": [
          "US",
          "India",
          "Brazil",
          "France",
          "Turkey",
          "Russia",
          "United Kingdom",
          "Italy",
          "Argentina",
          "Colombia",
          "Spain",
          "Germany",
          "Iran",
          "Poland",
          "Mexico",
          "Ukraine",
          "Peru",
          "Indonesia",
          "South Africa",
          "Netherlands",
          "Czechia",
          "Chile",
          "Canada",
          "Philippines",
          "Iraq",
          "Sweden",
          "Romania",
          "Belgium",
          "Pakistan",
          "Portugal",
          "Israel",
          "Bangladesh",
          "Hungary",
          "Japan",
          "Jordan",
          "Serbia",
          "Switzerland",
          "Malaysia",
          "Austria",
          "Nepal",
          "United Arab Emirates",
          "Lebanon",
          "Morocco",
          "Saudi Arabia",
          "Kazakhstan",
          "Ecuador",
          "Bulgaria",
          "Greece",
          "Bolivia",
          "Belarus",
          "Paraguay",
          "Slovakia",
          "Panama",
          "Tunisia",
          "Croatia",
          "Georgia",
          "Costa Rica",
          "Uruguay",
          "Azerbaijan",
          "Kuwait",
          "West Bank and Gaza",
          "Dominican Republic",
          "Denmark",
          "Lithuania",
          "Ethiopia",
          "Egypt",
          "Guatemala",
          "Ireland",
          "Bahrain",
          "Slovenia",
          "Moldova",
          "Venezuela",
          "Honduras",
          "Oman",
          "Sri Lanka",
          "Armenia",
          "Qatar",
          "Bosnia and Herzegovina",
          "Thailand",
          "Libya",
          "Kenya",
          "Nigeria",
          "Cuba",
          "North Macedonia",
          "Korea, South",
          "Burma",
          "Latvia",
          "Algeria",
          "Albania",
          "Estonia",
          "Norway",
          "Zambia",
          "Kyrgyzstan",
          "Kosovo",
          "Uzbekistan",
          "China",
          "Montenegro",
          "Ghana",
          "Finland",
          "Afghanistan",
          "Cameroon",
          "Mongolia",
          "El Salvador",
          "Cyprus",
          "Mozambique",
          "Maldives",
          "Luxembourg",
          "Namibia",
          "Uganda",
          "Singapore",
          "Botswana",
          "Jamaica",
          "Cote d'Ivoire",
          "Senegal",
          "Madagascar",
          "Zimbabwe",
          "Cambodia",
          "Angola",
          "Sudan",
          "Congo (Kinshasa)",
          "Malawi",
          "Cabo Verde",
          "Malta",
          "Australia",
          "Trinidad and Tobago",
          "Rwanda",
          "Syria",
          "Gabon",
          "Guinea",
          "Mauritania",
          "Eswatini",
          "Suriname",
          "Guyana",
          "Papua New Guinea",
          "Haiti",
          "Somalia",
          "Mali",
          "Andorra",
          "Togo",
          "Seychelles",
          "Burkina Faso",
          "Tajikistan",
          "Taiwan*",
          "Belize",
          "Bahamas",
          "Congo (Brazzaville)",
          "Djibouti",
          "Lesotho",
          "Vietnam",
          "South Sudan",
          "Equatorial Guinea",
          "Timor-Leste",
          "Benin",
          "Nicaragua",
          "Central African Republic",
          "Yemen",
          "Iceland",
          "Gambia",
          "Niger",
          "Saint Lucia",
          "San Marino",
          "Burundi",
          "Eritrea",
          "Chad",
          "Sierra Leone",
          "Barbados",
          "Comoros",
          "Guinea-Bissau",
          "Liechtenstein",
          "New Zealand",
          "Liberia",
          "Monaco",
          "Sao Tome and Principe",
          "Saint Vincent and the Grenadines",
          "Laos",
          "Bhutan",
          "Mauritius",
          "Antigua and Barbuda",
          "Fiji",
          "Diamond Princess",
          "Tanzania",
          "Brunei",
          "Dominica",
          "Grenada",
          "Saint Kitts and Nevis",
          "Holy See",
          "Solomon Islands",
          "MS Zaandam",
          "Vanuatu",
          "Marshall Islands",
          "Samoa",
          "Kiribati",
          "Micronesia"
         ],
         "legendgroup": "",
         "locationmode": "country names",
         "locations": [
          "US",
          "India",
          "Brazil",
          "France",
          "Turkey",
          "Russia",
          "United Kingdom",
          "Italy",
          "Argentina",
          "Colombia",
          "Spain",
          "Germany",
          "Iran",
          "Poland",
          "Mexico",
          "Ukraine",
          "Peru",
          "Indonesia",
          "South Africa",
          "Netherlands",
          "Czechia",
          "Chile",
          "Canada",
          "Philippines",
          "Iraq",
          "Sweden",
          "Romania",
          "Belgium",
          "Pakistan",
          "Portugal",
          "Israel",
          "Bangladesh",
          "Hungary",
          "Japan",
          "Jordan",
          "Serbia",
          "Switzerland",
          "Malaysia",
          "Austria",
          "Nepal",
          "United Arab Emirates",
          "Lebanon",
          "Morocco",
          "Saudi Arabia",
          "Kazakhstan",
          "Ecuador",
          "Bulgaria",
          "Greece",
          "Bolivia",
          "Belarus",
          "Paraguay",
          "Slovakia",
          "Panama",
          "Tunisia",
          "Croatia",
          "Georgia",
          "Costa Rica",
          "Uruguay",
          "Azerbaijan",
          "Kuwait",
          "West Bank and Gaza",
          "Dominican Republic",
          "Denmark",
          "Lithuania",
          "Ethiopia",
          "Egypt",
          "Guatemala",
          "Ireland",
          "Bahrain",
          "Slovenia",
          "Moldova",
          "Venezuela",
          "Honduras",
          "Oman",
          "Sri Lanka",
          "Armenia",
          "Qatar",
          "Bosnia and Herzegovina",
          "Thailand",
          "Libya",
          "Kenya",
          "Nigeria",
          "Cuba",
          "North Macedonia",
          "Korea, South",
          "Burma",
          "Latvia",
          "Algeria",
          "Albania",
          "Estonia",
          "Norway",
          "Zambia",
          "Kyrgyzstan",
          "Kosovo",
          "Uzbekistan",
          "China",
          "Montenegro",
          "Ghana",
          "Finland",
          "Afghanistan",
          "Cameroon",
          "Mongolia",
          "El Salvador",
          "Cyprus",
          "Mozambique",
          "Maldives",
          "Luxembourg",
          "Namibia",
          "Uganda",
          "Singapore",
          "Botswana",
          "Jamaica",
          "Cote d'Ivoire",
          "Senegal",
          "Madagascar",
          "Zimbabwe",
          "Cambodia",
          "Angola",
          "Sudan",
          "Congo (Kinshasa)",
          "Malawi",
          "Cabo Verde",
          "Malta",
          "Australia",
          "Trinidad and Tobago",
          "Rwanda",
          "Syria",
          "Gabon",
          "Guinea",
          "Mauritania",
          "Eswatini",
          "Suriname",
          "Guyana",
          "Papua New Guinea",
          "Haiti",
          "Somalia",
          "Mali",
          "Andorra",
          "Togo",
          "Seychelles",
          "Burkina Faso",
          "Tajikistan",
          "Taiwan*",
          "Belize",
          "Bahamas",
          "Congo (Brazzaville)",
          "Djibouti",
          "Lesotho",
          "Vietnam",
          "South Sudan",
          "Equatorial Guinea",
          "Timor-Leste",
          "Benin",
          "Nicaragua",
          "Central African Republic",
          "Yemen",
          "Iceland",
          "Gambia",
          "Niger",
          "Saint Lucia",
          "San Marino",
          "Burundi",
          "Eritrea",
          "Chad",
          "Sierra Leone",
          "Barbados",
          "Comoros",
          "Guinea-Bissau",
          "Liechtenstein",
          "New Zealand",
          "Liberia",
          "Monaco",
          "Sao Tome and Principe",
          "Saint Vincent and the Grenadines",
          "Laos",
          "Bhutan",
          "Mauritius",
          "Antigua and Barbuda",
          "Fiji",
          "Diamond Princess",
          "Tanzania",
          "Brunei",
          "Dominica",
          "Grenada",
          "Saint Kitts and Nevis",
          "Holy See",
          "Solomon Islands",
          "MS Zaandam",
          "Vanuatu",
          "Marshall Islands",
          "Samoa",
          "Kiribati",
          "Micronesia"
         ],
         "marker": {
          "color": [
           33474734,
           29570881,
           17452612,
           5803012,
           5336073,
           5162049,
           4589400,
           4245779,
           4145482,
           3777600,
           3741767,
           3724168,
           3039432,
           2877608,
           2455351,
           2284337,
           2003625,
           1919547,
           1752630,
           1701124,
           1665138,
           1482663,
           1410828,
           1322053,
           1259683,
           1083456,
           1079776,
           1076579,
           943027,
           858072,
           839690,
           829972,
           807045,
           776565,
           743877,
           715015,
           700735,
           662457,
           648732,
           610521,
           599823,
           542649,
           523999,
           466906,
           459212,
           439139,
           420493,
           415401,
           409106,
           406360,
           393482,
           391038,
           388325,
           370224,
           358581,
           354276,
           343604,
           340818,
           335196,
           329526,
           311690,
           309477,
           290912,
           277812,
           274346,
           273795,
           271990,
           267006,
           259523,
           256467,
           255830,
           252883,
           248115,
           236440,
           225922,
           223723,
           219887,
           204668,
           199264,
           189284,
           175681,
           167078,
           159057,
           155540,
           148647,
           145826,
           136104,
           133742,
           132461,
           130538,
           128277,
           113134,
           110829,
           107175,
           103813,
           103401,
           99964,
           94493,
           93850,
           91458,
           80090,
           78347,
           75351,
           73247,
           71568,
           70673,
           70445,
           65815,
           63099,
           62301,
           61457,
           49356,
           47760,
           42023,
           41948,
           40077,
           38969,
           36790,
           36304,
           35668,
           34564,
           31647,
           30582,
           30273,
           28982,
           28614,
           24860,
           24755,
           23398,
           20109,
           18746,
           18599,
           18446,
           16682,
           16561,
           14817,
           14352,
           13826,
           13631,
           13630,
           13459,
           13308,
           13106,
           12971,
           12199,
           12121,
           11575,
           10923,
           10881,
           10688,
           8662,
           8341,
           8109,
           7662,
           7101,
           6863,
           6555,
           6016,
           5452,
           5180,
           5090,
           5026,
           4981,
           4943,
           4433,
           4037,
           3901,
           3803,
           3026,
           2709,
           2575,
           2526,
           2358,
           2156,
           2010,
           1826,
           1701,
           1263,
           1206,
           712,
           509,
           248,
           189,
           161,
           155,
           27,
           20,
           9,
           4,
           4,
           3,
           2,
           1
          ],
          "coloraxis": "coloraxis",
          "size": [
           33474734,
           29570881,
           17452612,
           5803012,
           5336073,
           5162049,
           4589400,
           4245779,
           4145482,
           3777600,
           3741767,
           3724168,
           3039432,
           2877608,
           2455351,
           2284337,
           2003625,
           1919547,
           1752630,
           1701124,
           1665138,
           1482663,
           1410828,
           1322053,
           1259683,
           1083456,
           1079776,
           1076579,
           943027,
           858072,
           839690,
           829972,
           807045,
           776565,
           743877,
           715015,
           700735,
           662457,
           648732,
           610521,
           599823,
           542649,
           523999,
           466906,
           459212,
           439139,
           420493,
           415401,
           409106,
           406360,
           393482,
           391038,
           388325,
           370224,
           358581,
           354276,
           343604,
           340818,
           335196,
           329526,
           311690,
           309477,
           290912,
           277812,
           274346,
           273795,
           271990,
           267006,
           259523,
           256467,
           255830,
           252883,
           248115,
           236440,
           225922,
           223723,
           219887,
           204668,
           199264,
           189284,
           175681,
           167078,
           159057,
           155540,
           148647,
           145826,
           136104,
           133742,
           132461,
           130538,
           128277,
           113134,
           110829,
           107175,
           103813,
           103401,
           99964,
           94493,
           93850,
           91458,
           80090,
           78347,
           75351,
           73247,
           71568,
           70673,
           70445,
           65815,
           63099,
           62301,
           61457,
           49356,
           47760,
           42023,
           41948,
           40077,
           38969,
           36790,
           36304,
           35668,
           34564,
           31647,
           30582,
           30273,
           28982,
           28614,
           24860,
           24755,
           23398,
           20109,
           18746,
           18599,
           18446,
           16682,
           16561,
           14817,
           14352,
           13826,
           13631,
           13630,
           13459,
           13308,
           13106,
           12971,
           12199,
           12121,
           11575,
           10923,
           10881,
           10688,
           8662,
           8341,
           8109,
           7662,
           7101,
           6863,
           6555,
           6016,
           5452,
           5180,
           5090,
           5026,
           4981,
           4943,
           4433,
           4037,
           3901,
           3803,
           3026,
           2709,
           2575,
           2526,
           2358,
           2156,
           2010,
           1826,
           1701,
           1263,
           1206,
           712,
           509,
           248,
           189,
           161,
           155,
           27,
           20,
           9,
           4,
           4,
           3,
           2,
           1
          ],
          "sizemode": "area",
          "sizeref": 13389.8936,
          "symbol": "circle"
         },
         "mode": "markers",
         "name": "",
         "showlegend": false,
         "type": "scattergeo"
        }
       ],
       "layout": {
        "coloraxis": {
         "colorbar": {
          "title": {
           "text": "Confirmed"
          }
         },
         "colorscale": [
          [
           0,
           "#0d0887"
          ],
          [
           0.1111111111111111,
           "#46039f"
          ],
          [
           0.2222222222222222,
           "#7201a8"
          ],
          [
           0.3333333333333333,
           "#9c179e"
          ],
          [
           0.4444444444444444,
           "#bd3786"
          ],
          [
           0.5555555555555556,
           "#d8576b"
          ],
          [
           0.6666666666666666,
           "#ed7953"
          ],
          [
           0.7777777777777778,
           "#fb9f3a"
          ],
          [
           0.8888888888888888,
           "#fdca26"
          ],
          [
           1,
           "#f0f921"
          ]
         ]
        },
        "geo": {
         "center": {},
         "domain": {
          "x": [
           0,
           1
          ],
          "y": [
           0,
           1
          ]
         },
         "projection": {
          "type": "natural earth"
         }
        },
        "legend": {
         "itemsizing": "constant",
         "tracegroupgap": 0
        },
        "margin": {
         "t": 60
        },
        "template": {
         "data": {
          "bar": [
           {
            "error_x": {
             "color": "#f2f5fa"
            },
            "error_y": {
             "color": "#f2f5fa"
            },
            "marker": {
             "line": {
              "color": "rgb(17,17,17)",
              "width": 0.5
             },
             "pattern": {
              "fillmode": "overlay",
              "size": 10,
              "solidity": 0.2
             }
            },
            "type": "bar"
           }
          ],
          "barpolar": [
           {
            "marker": {
             "line": {
              "color": "rgb(17,17,17)",
              "width": 0.5
             },
             "pattern": {
              "fillmode": "overlay",
              "size": 10,
              "solidity": 0.2
             }
            },
            "type": "barpolar"
           }
          ],
          "carpet": [
           {
            "aaxis": {
             "endlinecolor": "#A2B1C6",
             "gridcolor": "#506784",
             "linecolor": "#506784",
             "minorgridcolor": "#506784",
             "startlinecolor": "#A2B1C6"
            },
            "baxis": {
             "endlinecolor": "#A2B1C6",
             "gridcolor": "#506784",
             "linecolor": "#506784",
             "minorgridcolor": "#506784",
             "startlinecolor": "#A2B1C6"
            },
            "type": "carpet"
           }
          ],
          "choropleth": [
           {
            "colorbar": {
             "outlinewidth": 0,
             "ticks": ""
            },
            "type": "choropleth"
           }
          ],
          "contour": [
           {
            "colorbar": {
             "outlinewidth": 0,
             "ticks": ""
            },
            "colorscale": [
             [
              0,
              "#0d0887"
             ],
             [
              0.1111111111111111,
              "#46039f"
             ],
             [
              0.2222222222222222,
              "#7201a8"
             ],
             [
              0.3333333333333333,
              "#9c179e"
             ],
             [
              0.4444444444444444,
              "#bd3786"
             ],
             [
              0.5555555555555556,
              "#d8576b"
             ],
             [
              0.6666666666666666,
              "#ed7953"
             ],
             [
              0.7777777777777778,
              "#fb9f3a"
             ],
             [
              0.8888888888888888,
              "#fdca26"
             ],
             [
              1,
              "#f0f921"
             ]
            ],
            "type": "contour"
           }
          ],
          "contourcarpet": [
           {
            "colorbar": {
             "outlinewidth": 0,
             "ticks": ""
            },
            "type": "contourcarpet"
           }
          ],
          "heatmap": [
           {
            "colorbar": {
             "outlinewidth": 0,
             "ticks": ""
            },
            "colorscale": [
             [
              0,
              "#0d0887"
             ],
             [
              0.1111111111111111,
              "#46039f"
             ],
             [
              0.2222222222222222,
              "#7201a8"
             ],
             [
              0.3333333333333333,
              "#9c179e"
             ],
             [
              0.4444444444444444,
              "#bd3786"
             ],
             [
              0.5555555555555556,
              "#d8576b"
             ],
             [
              0.6666666666666666,
              "#ed7953"
             ],
             [
              0.7777777777777778,
              "#fb9f3a"
             ],
             [
              0.8888888888888888,
              "#fdca26"
             ],
             [
              1,
              "#f0f921"
             ]
            ],
            "type": "heatmap"
           }
          ],
          "heatmapgl": [
           {
            "colorbar": {
             "outlinewidth": 0,
             "ticks": ""
            },
            "colorscale": [
             [
              0,
              "#0d0887"
             ],
             [
              0.1111111111111111,
              "#46039f"
             ],
             [
              0.2222222222222222,
              "#7201a8"
             ],
             [
              0.3333333333333333,
              "#9c179e"
             ],
             [
              0.4444444444444444,
              "#bd3786"
             ],
             [
              0.5555555555555556,
              "#d8576b"
             ],
             [
              0.6666666666666666,
              "#ed7953"
             ],
             [
              0.7777777777777778,
              "#fb9f3a"
             ],
             [
              0.8888888888888888,
              "#fdca26"
             ],
             [
              1,
              "#f0f921"
             ]
            ],
            "type": "heatmapgl"
           }
          ],
          "histogram": [
           {
            "marker": {
             "pattern": {
              "fillmode": "overlay",
              "size": 10,
              "solidity": 0.2
             }
            },
            "type": "histogram"
           }
          ],
          "histogram2d": [
           {
            "colorbar": {
             "outlinewidth": 0,
             "ticks": ""
            },
            "colorscale": [
             [
              0,
              "#0d0887"
             ],
             [
              0.1111111111111111,
              "#46039f"
             ],
             [
              0.2222222222222222,
              "#7201a8"
             ],
             [
              0.3333333333333333,
              "#9c179e"
             ],
             [
              0.4444444444444444,
              "#bd3786"
             ],
             [
              0.5555555555555556,
              "#d8576b"
             ],
             [
              0.6666666666666666,
              "#ed7953"
             ],
             [
              0.7777777777777778,
              "#fb9f3a"
             ],
             [
              0.8888888888888888,
              "#fdca26"
             ],
             [
              1,
              "#f0f921"
             ]
            ],
            "type": "histogram2d"
           }
          ],
          "histogram2dcontour": [
           {
            "colorbar": {
             "outlinewidth": 0,
             "ticks": ""
            },
            "colorscale": [
             [
              0,
              "#0d0887"
             ],
             [
              0.1111111111111111,
              "#46039f"
             ],
             [
              0.2222222222222222,
              "#7201a8"
             ],
             [
              0.3333333333333333,
              "#9c179e"
             ],
             [
              0.4444444444444444,
              "#bd3786"
             ],
             [
              0.5555555555555556,
              "#d8576b"
             ],
             [
              0.6666666666666666,
              "#ed7953"
             ],
             [
              0.7777777777777778,
              "#fb9f3a"
             ],
             [
              0.8888888888888888,
              "#fdca26"
             ],
             [
              1,
              "#f0f921"
             ]
            ],
            "type": "histogram2dcontour"
           }
          ],
          "mesh3d": [
           {
            "colorbar": {
             "outlinewidth": 0,
             "ticks": ""
            },
            "type": "mesh3d"
           }
          ],
          "parcoords": [
           {
            "line": {
             "colorbar": {
              "outlinewidth": 0,
              "ticks": ""
             }
            },
            "type": "parcoords"
           }
          ],
          "pie": [
           {
            "automargin": true,
            "type": "pie"
           }
          ],
          "scatter": [
           {
            "marker": {
             "line": {
              "color": "#283442"
             }
            },
            "type": "scatter"
           }
          ],
          "scatter3d": [
           {
            "line": {
             "colorbar": {
              "outlinewidth": 0,
              "ticks": ""
             }
            },
            "marker": {
             "colorbar": {
              "outlinewidth": 0,
              "ticks": ""
             }
            },
            "type": "scatter3d"
           }
          ],
          "scattercarpet": [
           {
            "marker": {
             "colorbar": {
              "outlinewidth": 0,
              "ticks": ""
             }
            },
            "type": "scattercarpet"
           }
          ],
          "scattergeo": [
           {
            "marker": {
             "colorbar": {
              "outlinewidth": 0,
              "ticks": ""
             }
            },
            "type": "scattergeo"
           }
          ],
          "scattergl": [
           {
            "marker": {
             "line": {
              "color": "#283442"
             }
            },
            "type": "scattergl"
           }
          ],
          "scattermapbox": [
           {
            "marker": {
             "colorbar": {
              "outlinewidth": 0,
              "ticks": ""
             }
            },
            "type": "scattermapbox"
           }
          ],
          "scatterpolar": [
           {
            "marker": {
             "colorbar": {
              "outlinewidth": 0,
              "ticks": ""
             }
            },
            "type": "scatterpolar"
           }
          ],
          "scatterpolargl": [
           {
            "marker": {
             "colorbar": {
              "outlinewidth": 0,
              "ticks": ""
             }
            },
            "type": "scatterpolargl"
           }
          ],
          "scatterternary": [
           {
            "marker": {
             "colorbar": {
              "outlinewidth": 0,
              "ticks": ""
             }
            },
            "type": "scatterternary"
           }
          ],
          "surface": [
           {
            "colorbar": {
             "outlinewidth": 0,
             "ticks": ""
            },
            "colorscale": [
             [
              0,
              "#0d0887"
             ],
             [
              0.1111111111111111,
              "#46039f"
             ],
             [
              0.2222222222222222,
              "#7201a8"
             ],
             [
              0.3333333333333333,
              "#9c179e"
             ],
             [
              0.4444444444444444,
              "#bd3786"
             ],
             [
              0.5555555555555556,
              "#d8576b"
             ],
             [
              0.6666666666666666,
              "#ed7953"
             ],
             [
              0.7777777777777778,
              "#fb9f3a"
             ],
             [
              0.8888888888888888,
              "#fdca26"
             ],
             [
              1,
              "#f0f921"
             ]
            ],
            "type": "surface"
           }
          ],
          "table": [
           {
            "cells": {
             "fill": {
              "color": "#506784"
             },
             "line": {
              "color": "rgb(17,17,17)"
             }
            },
            "header": {
             "fill": {
              "color": "#2a3f5f"
             },
             "line": {
              "color": "rgb(17,17,17)"
             }
            },
            "type": "table"
           }
          ]
         },
         "layout": {
          "annotationdefaults": {
           "arrowcolor": "#f2f5fa",
           "arrowhead": 0,
           "arrowwidth": 1
          },
          "autotypenumbers": "strict",
          "coloraxis": {
           "colorbar": {
            "outlinewidth": 0,
            "ticks": ""
           }
          },
          "colorscale": {
           "diverging": [
            [
             0,
             "#8e0152"
            ],
            [
             0.1,
             "#c51b7d"
            ],
            [
             0.2,
             "#de77ae"
            ],
            [
             0.3,
             "#f1b6da"
            ],
            [
             0.4,
             "#fde0ef"
            ],
            [
             0.5,
             "#f7f7f7"
            ],
            [
             0.6,
             "#e6f5d0"
            ],
            [
             0.7,
             "#b8e186"
            ],
            [
             0.8,
             "#7fbc41"
            ],
            [
             0.9,
             "#4d9221"
            ],
            [
             1,
             "#276419"
            ]
           ],
           "sequential": [
            [
             0,
             "#0d0887"
            ],
            [
             0.1111111111111111,
             "#46039f"
            ],
            [
             0.2222222222222222,
             "#7201a8"
            ],
            [
             0.3333333333333333,
             "#9c179e"
            ],
            [
             0.4444444444444444,
             "#bd3786"
            ],
            [
             0.5555555555555556,
             "#d8576b"
            ],
            [
             0.6666666666666666,
             "#ed7953"
            ],
            [
             0.7777777777777778,
             "#fb9f3a"
            ],
            [
             0.8888888888888888,
             "#fdca26"
            ],
            [
             1,
             "#f0f921"
            ]
           ],
           "sequentialminus": [
            [
             0,
             "#0d0887"
            ],
            [
             0.1111111111111111,
             "#46039f"
            ],
            [
             0.2222222222222222,
             "#7201a8"
            ],
            [
             0.3333333333333333,
             "#9c179e"
            ],
            [
             0.4444444444444444,
             "#bd3786"
            ],
            [
             0.5555555555555556,
             "#d8576b"
            ],
            [
             0.6666666666666666,
             "#ed7953"
            ],
            [
             0.7777777777777778,
             "#fb9f3a"
            ],
            [
             0.8888888888888888,
             "#fdca26"
            ],
            [
             1,
             "#f0f921"
            ]
           ]
          },
          "colorway": [
           "#636efa",
           "#EF553B",
           "#00cc96",
           "#ab63fa",
           "#FFA15A",
           "#19d3f3",
           "#FF6692",
           "#B6E880",
           "#FF97FF",
           "#FECB52"
          ],
          "font": {
           "color": "#f2f5fa"
          },
          "geo": {
           "bgcolor": "rgb(17,17,17)",
           "lakecolor": "rgb(17,17,17)",
           "landcolor": "rgb(17,17,17)",
           "showlakes": true,
           "showland": true,
           "subunitcolor": "#506784"
          },
          "hoverlabel": {
           "align": "left"
          },
          "hovermode": "closest",
          "mapbox": {
           "style": "dark"
          },
          "paper_bgcolor": "rgb(17,17,17)",
          "plot_bgcolor": "rgb(17,17,17)",
          "polar": {
           "angularaxis": {
            "gridcolor": "#506784",
            "linecolor": "#506784",
            "ticks": ""
           },
           "bgcolor": "rgb(17,17,17)",
           "radialaxis": {
            "gridcolor": "#506784",
            "linecolor": "#506784",
            "ticks": ""
           }
          },
          "scene": {
           "xaxis": {
            "backgroundcolor": "rgb(17,17,17)",
            "gridcolor": "#506784",
            "gridwidth": 2,
            "linecolor": "#506784",
            "showbackground": true,
            "ticks": "",
            "zerolinecolor": "#C8D4E3"
           },
           "yaxis": {
            "backgroundcolor": "rgb(17,17,17)",
            "gridcolor": "#506784",
            "gridwidth": 2,
            "linecolor": "#506784",
            "showbackground": true,
            "ticks": "",
            "zerolinecolor": "#C8D4E3"
           },
           "zaxis": {
            "backgroundcolor": "rgb(17,17,17)",
            "gridcolor": "#506784",
            "gridwidth": 2,
            "linecolor": "#506784",
            "showbackground": true,
            "ticks": "",
            "zerolinecolor": "#C8D4E3"
           }
          },
          "shapedefaults": {
           "line": {
            "color": "#f2f5fa"
           }
          },
          "sliderdefaults": {
           "bgcolor": "#C8D4E3",
           "bordercolor": "rgb(17,17,17)",
           "borderwidth": 1,
           "tickwidth": 0
          },
          "ternary": {
           "aaxis": {
            "gridcolor": "#506784",
            "linecolor": "#506784",
            "ticks": ""
           },
           "baxis": {
            "gridcolor": "#506784",
            "linecolor": "#506784",
            "ticks": ""
           },
           "bgcolor": "rgb(17,17,17)",
           "caxis": {
            "gridcolor": "#506784",
            "linecolor": "#506784",
            "ticks": ""
           }
          },
          "title": {
           "x": 0.05
          },
          "updatemenudefaults": {
           "bgcolor": "#506784",
           "borderwidth": 0
          },
          "xaxis": {
           "automargin": true,
           "gridcolor": "#283442",
           "linecolor": "#506784",
           "ticks": "",
           "title": {
            "standoff": 15
           },
           "zerolinecolor": "#283442",
           "zerolinewidth": 2
          },
          "yaxis": {
           "automargin": true,
           "gridcolor": "#283442",
           "linecolor": "#506784",
           "ticks": "",
           "title": {
            "standoff": 15
           },
           "zerolinecolor": "#283442",
           "zerolinewidth": 2
          }
         }
        }
       }
      },
      "text/html": [
       "<div>                            <div id=\"8ea1a79b-9ce8-472f-92cc-72cde3932ed2\" class=\"plotly-graph-div\" style=\"height:525px; width:100%;\"></div>            <script type=\"text/javascript\">                require([\"plotly\"], function(Plotly) {                    window.PLOTLYENV=window.PLOTLYENV || {};                                    if (document.getElementById(\"8ea1a79b-9ce8-472f-92cc-72cde3932ed2\")) {                    Plotly.newPlot(                        \"8ea1a79b-9ce8-472f-92cc-72cde3932ed2\",                        [{\"customdata\":[[33474734,599946,0.0,\"US\"],[29570881,377031,28280472.0,\"India\"],[17452612,488228,15421397.0,\"Brazil\"],[5803012,110616,399560.0,\"France\"],[5336073,48795,5206836.0,\"Turkey\"],[5162049,124681,4754036.0,\"Russia\"],[4589400,128171,15562.0,\"United Kingdom\"],[4245779,127038,3960951.0,\"Italy\"],[4145482,86029,3748794.0,\"Argentina\"],[3777600,96366,3510709.0,\"Colombia\"],[3741767,80517,150376.0,\"Spain\"],[3724168,89944,3585660.0,\"Germany\"],[3039432,82217,2666601.0,\"Iran\"],[2877608,74574,2648859.0,\"Poland\"],[2455351,230187,1956575.0,\"Mexico\"],[2284337,53812,2186276.0,\"Ukraine\"],[2003625,188708,1962124.0,\"Peru\"],[1919547,53116,1751234.0,\"Indonesia\"],[1752630,57879,1611447.0,\"South Africa\"],[1701124,17993,27130.0,\"Netherlands\"],[1665138,30229,1630452.0,\"Czechia\"],[1482663,30804,1406555.0,\"Chile\"],[1410828,25921,1368941.0,\"Canada\"],[1322053,22845,1240112.0,\"Philippines\"],[1259683,16736,1176576.0,\"Iraq\"],[1083456,14574,0.0,\"Sweden\"],[1079776,31861,1044404.0,\"Romania\"],[1076579,25093,0.0,\"Belgium\"],[943027,21782,880316.0,\"Pakistan\"],[858072,17047,815622.0,\"Portugal\"],[839690,6428,832947.0,\"Israel\"],[829972,13172,768830.0,\"Bangladesh\"],[807045,29925,730588.0,\"Hungary\"],[776565,14083,730290.0,\"Japan\"],[743877,9602,726932.0,\"Jordan\"],[715015,6970,0.0,\"Serbia\"],[700735,10861,317600.0,\"Switzerland\"],[662457,3968,586864.0,\"Malaysia\"],[648732,10662,634123.0,\"Austria\"],[610521,8465,536252.0,\"Nepal\"],[599823,1730,579045.0,\"United Arab Emirates\"],[542649,7801,527645.0,\"Lebanon\"],[523999,9213,511440.0,\"Morocco\"],[466906,7590,449241.0,\"Saudi Arabia\"],[459212,3502,430412.0,\"Kazakhstan\"],[439139,21051,398645.0,\"Ecuador\"],[420493,17915,390388.0,\"Bulgaria\"],[415401,12437,93764.0,\"Greece\"],[409106,15614,324028.0,\"Bolivia\"],[406360,2987,399174.0,\"Belarus\"],[393482,10954,327670.0,\"Paraguay\"],[391038,12441,255300.0,\"Slovakia\"],[388325,6451,372341.0,\"Panama\"],[370224,13567,323201.0,\"Tunisia\"],[358581,8152,349582.0,\"Croatia\"],[354276,5060,340328.0,\"Georgia\"],[343604,4388,262852.0,\"Costa Rica\"],[340818,5036,303880.0,\"Uruguay\"],[335196,4955,328699.0,\"Azerbaijan\"],[329526,1828,311559.0,\"Kuwait\"],[311690,3539,304138.0,\"West Bank and Gaza\"],[309477,3708,252803.0,\"Dominican Republic\"],[290912,2527,279839.0,\"Denmark\"],[277812,4342,263442.0,\"Lithuania\"],[274346,4250,251107.0,\"Ethiopia\"],[273795,15654,201739.0,\"Egypt\"],[271990,8465,247134.0,\"Guatemala\"],[267006,4941,23364.0,\"Ireland\"],[259523,1236,246074.0,\"Bahrain\"],[256467,4406,249321.0,\"Slovenia\"],[255830,6154,248733.0,\"Moldova\"],[252883,2845,233028.0,\"Venezuela\"],[248115,6653,89324.0,\"Honduras\"],[236440,2532,211494.0,\"Oman\"],[225922,2260,190464.0,\"Sri Lanka\"],[223723,4488,215228.0,\"Armenia\"],[219887,579,217143.0,\"Qatar\"],[204668,9495,177976.0,\"Bosnia and Herzegovina\"],[199264,1466,26873.0,\"Thailand\"],[189284,3165,174976.0,\"Libya\"],[175681,3421,120359.0,\"Kenya\"],[167078,2117,163469.0,\"Nigeria\"],[159057,1098,150855.0,\"Cuba\"],[155540,5472,149642.0,\"North Macedonia\"],[148647,1992,139733.0,\"Korea, South\"],[145826,3248,132969.0,\"Burma\"],[136104,2456,130823.0,\"Latvia\"],[133742,3579,93094.0,\"Algeria\"],[132461,2453,129865.0,\"Albania\"],[130538,1266,125798.0,\"Estonia\"],[128277,789,17998.0,\"Norway\"],[113134,1416,98994.0,\"Zambia\"],[110829,1899,102890.0,\"Kyrgyzstan\"],[107175,2255,104772.0,\"Kosovo\"],[103813,708,99733.0,\"Uzbekistan\"],[103401,4846,98003.0,\"China\"],[99964,1602,97951.0,\"Montenegro\"],[94493,789,92589.0,\"Ghana\"],[93850,964,46000.0,\"Finland\"],[91458,3612,61706.0,\"Afghanistan\"],[80090,1310,35261.0,\"Cameroon\"],[78347,369,57025.0,\"Mongolia\"],[75351,2299,70150.0,\"El Salvador\"],[73247,374,39061.0,\"Cyprus\"],[71568,841,69889.0,\"Mozambique\"],[70673,198,61761.0,\"Maldives\"],[70445,818,69129.0,\"Luxembourg\"],[65815,1008,55187.0,\"Namibia\"],[63099,434,48480.0,\"Uganda\"],[62301,34,61894.0,\"Singapore\"],[61457,926,56798.0,\"Botswana\"],[49356,1011,27732.0,\"Jamaica\"],[47760,306,47239.0,\"Cote d'Ivoire\"],[42023,1155,40591.0,\"Senegal\"],[41948,889,40264.0,\"Madagascar\"],[40077,1635,37027.0,\"Zimbabwe\"],[38969,348,32967.0,\"Cambodia\"],[36790,836,30359.0,\"Angola\"],[36304,2732,29994.0,\"Sudan\"],[35668,846,27849.0,\"Congo (Kinshasa)\"],[34564,1159,32753.0,\"Malawi\"],[31647,276,30542.0,\"Cabo Verde\"],[30582,419,30109.0,\"Malta\"],[30273,910,23692.0,\"Australia\"],[28982,677,19141.0,\"Trinidad and Tobago\"],[28614,372,26383.0,\"Rwanda\"],[24860,1815,21682.0,\"Syria\"],[24755,157,23910.0,\"Gabon\"],[23398,167,21488.0,\"Guinea\"],[20109,476,19181.0,\"Mauritania\"],[18746,676,17952.0,\"Eswatini\"],[18599,412,14172.0,\"Suriname\"],[18446,430,16313.0,\"Guyana\"],[16682,165,16017.0,\"Papua New Guinea\"],[16561,355,12563.0,\"Haiti\"],[14817,774,7043.0,\"Somalia\"],[14352,523,9959.0,\"Mali\"],[13826,127,13618.0,\"Andorra\"],[13631,126,13308.0,\"Togo\"],[13630,50,12173.0,\"Seychelles\"],[13459,167,13272.0,\"Burkina Faso\"],[13308,90,13218.0,\"Tajikistan\"],[13106,452,1133.0,\"Taiwan*\"],[12971,326,12479.0,\"Belize\"],[12199,237,11136.0,\"Bahamas\"],[12121,160,11211.0,\"Congo (Brazzaville)\"],[11575,154,11405.0,\"Djibouti\"],[10923,326,6443.0,\"Lesotho\"],[10881,59,4236.0,\"Vietnam\"],[10688,115,10514.0,\"South Sudan\"],[8662,120,8413.0,\"Equatorial Guinea\"],[8341,19,6833.0,\"Timor-Leste\"],[8109,102,7979.0,\"Benin\"],[7662,188,4225.0,\"Nicaragua\"],[7101,98,6859.0,\"Central African Republic\"],[6863,1350,3765.0,\"Yemen\"],[6555,29,6476.0,\"Iceland\"],[6016,180,5822.0,\"Gambia\"],[5452,192,5172.0,\"Niger\"],[5180,80,5006.0,\"Saint Lucia\"],[5090,90,4999.0,\"San Marino\"],[5026,8,773.0,\"Burundi\"],[4981,16,4420.0,\"Eritrea\"],[4943,174,4767.0,\"Chad\"],[4433,82,3184.0,\"Sierra Leone\"],[4037,47,3971.0,\"Barbados\"],[3901,146,3738.0,\"Comoros\"],[3803,69,3548.0,\"Guinea-Bissau\"],[3026,59,2948.0,\"Liechtenstein\"],[2709,26,2656.0,\"New Zealand\"],[2575,94,2099.0,\"Liberia\"],[2526,33,2473.0,\"Monaco\"],[2358,37,2307.0,\"Sao Tome and Principe\"],[2156,12,1898.0,\"Saint Vincent and the Grenadines\"],[2010,3,1880.0,\"Laos\"],[1826,1,1467.0,\"Bhutan\"],[1701,18,1265.0,\"Mauritius\"],[1263,42,1214.0,\"Antigua and Barbuda\"],[1206,4,335.0,\"Fiji\"],[712,13,699.0,\"Diamond Princess\"],[509,21,183.0,\"Tanzania\"],[248,3,239.0,\"Brunei\"],[189,0,188.0,\"Dominica\"],[161,1,160.0,\"Grenada\"],[155,0,61.0,\"Saint Kitts and Nevis\"],[27,0,27.0,\"Holy See\"],[20,0,20.0,\"Solomon Islands\"],[9,2,7.0,\"MS Zaandam\"],[4,1,3.0,\"Vanuatu\"],[4,0,4.0,\"Marshall Islands\"],[3,0,3.0,\"Samoa\"],[2,0,0.0,\"Kiribati\"],[1,0,1.0,\"Micronesia\"]],\"geo\":\"geo\",\"hovertemplate\":\"<b>%{hovertext}</b><br><br>Confirmed=%{marker.color:,2f}<br>Deaths=%{customdata[1]:,2f}<br>Recovered=%{customdata[2]:,2f}<extra></extra>\",\"hovertext\":[\"US\",\"India\",\"Brazil\",\"France\",\"Turkey\",\"Russia\",\"United Kingdom\",\"Italy\",\"Argentina\",\"Colombia\",\"Spain\",\"Germany\",\"Iran\",\"Poland\",\"Mexico\",\"Ukraine\",\"Peru\",\"Indonesia\",\"South Africa\",\"Netherlands\",\"Czechia\",\"Chile\",\"Canada\",\"Philippines\",\"Iraq\",\"Sweden\",\"Romania\",\"Belgium\",\"Pakistan\",\"Portugal\",\"Israel\",\"Bangladesh\",\"Hungary\",\"Japan\",\"Jordan\",\"Serbia\",\"Switzerland\",\"Malaysia\",\"Austria\",\"Nepal\",\"United Arab Emirates\",\"Lebanon\",\"Morocco\",\"Saudi Arabia\",\"Kazakhstan\",\"Ecuador\",\"Bulgaria\",\"Greece\",\"Bolivia\",\"Belarus\",\"Paraguay\",\"Slovakia\",\"Panama\",\"Tunisia\",\"Croatia\",\"Georgia\",\"Costa Rica\",\"Uruguay\",\"Azerbaijan\",\"Kuwait\",\"West Bank and Gaza\",\"Dominican Republic\",\"Denmark\",\"Lithuania\",\"Ethiopia\",\"Egypt\",\"Guatemala\",\"Ireland\",\"Bahrain\",\"Slovenia\",\"Moldova\",\"Venezuela\",\"Honduras\",\"Oman\",\"Sri Lanka\",\"Armenia\",\"Qatar\",\"Bosnia and Herzegovina\",\"Thailand\",\"Libya\",\"Kenya\",\"Nigeria\",\"Cuba\",\"North Macedonia\",\"Korea, South\",\"Burma\",\"Latvia\",\"Algeria\",\"Albania\",\"Estonia\",\"Norway\",\"Zambia\",\"Kyrgyzstan\",\"Kosovo\",\"Uzbekistan\",\"China\",\"Montenegro\",\"Ghana\",\"Finland\",\"Afghanistan\",\"Cameroon\",\"Mongolia\",\"El Salvador\",\"Cyprus\",\"Mozambique\",\"Maldives\",\"Luxembourg\",\"Namibia\",\"Uganda\",\"Singapore\",\"Botswana\",\"Jamaica\",\"Cote d'Ivoire\",\"Senegal\",\"Madagascar\",\"Zimbabwe\",\"Cambodia\",\"Angola\",\"Sudan\",\"Congo (Kinshasa)\",\"Malawi\",\"Cabo Verde\",\"Malta\",\"Australia\",\"Trinidad and Tobago\",\"Rwanda\",\"Syria\",\"Gabon\",\"Guinea\",\"Mauritania\",\"Eswatini\",\"Suriname\",\"Guyana\",\"Papua New Guinea\",\"Haiti\",\"Somalia\",\"Mali\",\"Andorra\",\"Togo\",\"Seychelles\",\"Burkina Faso\",\"Tajikistan\",\"Taiwan*\",\"Belize\",\"Bahamas\",\"Congo (Brazzaville)\",\"Djibouti\",\"Lesotho\",\"Vietnam\",\"South Sudan\",\"Equatorial Guinea\",\"Timor-Leste\",\"Benin\",\"Nicaragua\",\"Central African Republic\",\"Yemen\",\"Iceland\",\"Gambia\",\"Niger\",\"Saint Lucia\",\"San Marino\",\"Burundi\",\"Eritrea\",\"Chad\",\"Sierra Leone\",\"Barbados\",\"Comoros\",\"Guinea-Bissau\",\"Liechtenstein\",\"New Zealand\",\"Liberia\",\"Monaco\",\"Sao Tome and Principe\",\"Saint Vincent and the Grenadines\",\"Laos\",\"Bhutan\",\"Mauritius\",\"Antigua and Barbuda\",\"Fiji\",\"Diamond Princess\",\"Tanzania\",\"Brunei\",\"Dominica\",\"Grenada\",\"Saint Kitts and Nevis\",\"Holy See\",\"Solomon Islands\",\"MS Zaandam\",\"Vanuatu\",\"Marshall Islands\",\"Samoa\",\"Kiribati\",\"Micronesia\"],\"legendgroup\":\"\",\"locationmode\":\"country names\",\"locations\":[\"US\",\"India\",\"Brazil\",\"France\",\"Turkey\",\"Russia\",\"United Kingdom\",\"Italy\",\"Argentina\",\"Colombia\",\"Spain\",\"Germany\",\"Iran\",\"Poland\",\"Mexico\",\"Ukraine\",\"Peru\",\"Indonesia\",\"South Africa\",\"Netherlands\",\"Czechia\",\"Chile\",\"Canada\",\"Philippines\",\"Iraq\",\"Sweden\",\"Romania\",\"Belgium\",\"Pakistan\",\"Portugal\",\"Israel\",\"Bangladesh\",\"Hungary\",\"Japan\",\"Jordan\",\"Serbia\",\"Switzerland\",\"Malaysia\",\"Austria\",\"Nepal\",\"United Arab Emirates\",\"Lebanon\",\"Morocco\",\"Saudi Arabia\",\"Kazakhstan\",\"Ecuador\",\"Bulgaria\",\"Greece\",\"Bolivia\",\"Belarus\",\"Paraguay\",\"Slovakia\",\"Panama\",\"Tunisia\",\"Croatia\",\"Georgia\",\"Costa Rica\",\"Uruguay\",\"Azerbaijan\",\"Kuwait\",\"West Bank and Gaza\",\"Dominican Republic\",\"Denmark\",\"Lithuania\",\"Ethiopia\",\"Egypt\",\"Guatemala\",\"Ireland\",\"Bahrain\",\"Slovenia\",\"Moldova\",\"Venezuela\",\"Honduras\",\"Oman\",\"Sri Lanka\",\"Armenia\",\"Qatar\",\"Bosnia and Herzegovina\",\"Thailand\",\"Libya\",\"Kenya\",\"Nigeria\",\"Cuba\",\"North Macedonia\",\"Korea, South\",\"Burma\",\"Latvia\",\"Algeria\",\"Albania\",\"Estonia\",\"Norway\",\"Zambia\",\"Kyrgyzstan\",\"Kosovo\",\"Uzbekistan\",\"China\",\"Montenegro\",\"Ghana\",\"Finland\",\"Afghanistan\",\"Cameroon\",\"Mongolia\",\"El Salvador\",\"Cyprus\",\"Mozambique\",\"Maldives\",\"Luxembourg\",\"Namibia\",\"Uganda\",\"Singapore\",\"Botswana\",\"Jamaica\",\"Cote d'Ivoire\",\"Senegal\",\"Madagascar\",\"Zimbabwe\",\"Cambodia\",\"Angola\",\"Sudan\",\"Congo (Kinshasa)\",\"Malawi\",\"Cabo Verde\",\"Malta\",\"Australia\",\"Trinidad and Tobago\",\"Rwanda\",\"Syria\",\"Gabon\",\"Guinea\",\"Mauritania\",\"Eswatini\",\"Suriname\",\"Guyana\",\"Papua New Guinea\",\"Haiti\",\"Somalia\",\"Mali\",\"Andorra\",\"Togo\",\"Seychelles\",\"Burkina Faso\",\"Tajikistan\",\"Taiwan*\",\"Belize\",\"Bahamas\",\"Congo (Brazzaville)\",\"Djibouti\",\"Lesotho\",\"Vietnam\",\"South Sudan\",\"Equatorial Guinea\",\"Timor-Leste\",\"Benin\",\"Nicaragua\",\"Central African Republic\",\"Yemen\",\"Iceland\",\"Gambia\",\"Niger\",\"Saint Lucia\",\"San Marino\",\"Burundi\",\"Eritrea\",\"Chad\",\"Sierra Leone\",\"Barbados\",\"Comoros\",\"Guinea-Bissau\",\"Liechtenstein\",\"New Zealand\",\"Liberia\",\"Monaco\",\"Sao Tome and Principe\",\"Saint Vincent and the Grenadines\",\"Laos\",\"Bhutan\",\"Mauritius\",\"Antigua and Barbuda\",\"Fiji\",\"Diamond Princess\",\"Tanzania\",\"Brunei\",\"Dominica\",\"Grenada\",\"Saint Kitts and Nevis\",\"Holy See\",\"Solomon Islands\",\"MS Zaandam\",\"Vanuatu\",\"Marshall Islands\",\"Samoa\",\"Kiribati\",\"Micronesia\"],\"marker\":{\"color\":[33474734,29570881,17452612,5803012,5336073,5162049,4589400,4245779,4145482,3777600,3741767,3724168,3039432,2877608,2455351,2284337,2003625,1919547,1752630,1701124,1665138,1482663,1410828,1322053,1259683,1083456,1079776,1076579,943027,858072,839690,829972,807045,776565,743877,715015,700735,662457,648732,610521,599823,542649,523999,466906,459212,439139,420493,415401,409106,406360,393482,391038,388325,370224,358581,354276,343604,340818,335196,329526,311690,309477,290912,277812,274346,273795,271990,267006,259523,256467,255830,252883,248115,236440,225922,223723,219887,204668,199264,189284,175681,167078,159057,155540,148647,145826,136104,133742,132461,130538,128277,113134,110829,107175,103813,103401,99964,94493,93850,91458,80090,78347,75351,73247,71568,70673,70445,65815,63099,62301,61457,49356,47760,42023,41948,40077,38969,36790,36304,35668,34564,31647,30582,30273,28982,28614,24860,24755,23398,20109,18746,18599,18446,16682,16561,14817,14352,13826,13631,13630,13459,13308,13106,12971,12199,12121,11575,10923,10881,10688,8662,8341,8109,7662,7101,6863,6555,6016,5452,5180,5090,5026,4981,4943,4433,4037,3901,3803,3026,2709,2575,2526,2358,2156,2010,1826,1701,1263,1206,712,509,248,189,161,155,27,20,9,4,4,3,2,1],\"coloraxis\":\"coloraxis\",\"size\":[33474734,29570881,17452612,5803012,5336073,5162049,4589400,4245779,4145482,3777600,3741767,3724168,3039432,2877608,2455351,2284337,2003625,1919547,1752630,1701124,1665138,1482663,1410828,1322053,1259683,1083456,1079776,1076579,943027,858072,839690,829972,807045,776565,743877,715015,700735,662457,648732,610521,599823,542649,523999,466906,459212,439139,420493,415401,409106,406360,393482,391038,388325,370224,358581,354276,343604,340818,335196,329526,311690,309477,290912,277812,274346,273795,271990,267006,259523,256467,255830,252883,248115,236440,225922,223723,219887,204668,199264,189284,175681,167078,159057,155540,148647,145826,136104,133742,132461,130538,128277,113134,110829,107175,103813,103401,99964,94493,93850,91458,80090,78347,75351,73247,71568,70673,70445,65815,63099,62301,61457,49356,47760,42023,41948,40077,38969,36790,36304,35668,34564,31647,30582,30273,28982,28614,24860,24755,23398,20109,18746,18599,18446,16682,16561,14817,14352,13826,13631,13630,13459,13308,13106,12971,12199,12121,11575,10923,10881,10688,8662,8341,8109,7662,7101,6863,6555,6016,5452,5180,5090,5026,4981,4943,4433,4037,3901,3803,3026,2709,2575,2526,2358,2156,2010,1826,1701,1263,1206,712,509,248,189,161,155,27,20,9,4,4,3,2,1],\"sizemode\":\"area\",\"sizeref\":13389.8936,\"symbol\":\"circle\"},\"mode\":\"markers\",\"name\":\"\",\"showlegend\":false,\"type\":\"scattergeo\"}],                        {\"coloraxis\":{\"colorbar\":{\"title\":{\"text\":\"Confirmed\"}},\"colorscale\":[[0.0,\"#0d0887\"],[0.1111111111111111,\"#46039f\"],[0.2222222222222222,\"#7201a8\"],[0.3333333333333333,\"#9c179e\"],[0.4444444444444444,\"#bd3786\"],[0.5555555555555556,\"#d8576b\"],[0.6666666666666666,\"#ed7953\"],[0.7777777777777778,\"#fb9f3a\"],[0.8888888888888888,\"#fdca26\"],[1.0,\"#f0f921\"]]},\"geo\":{\"center\":{},\"domain\":{\"x\":[0.0,1.0],\"y\":[0.0,1.0]},\"projection\":{\"type\":\"natural earth\"}},\"legend\":{\"itemsizing\":\"constant\",\"tracegroupgap\":0},\"margin\":{\"t\":60},\"template\":{\"data\":{\"bar\":[{\"error_x\":{\"color\":\"#f2f5fa\"},\"error_y\":{\"color\":\"#f2f5fa\"},\"marker\":{\"line\":{\"color\":\"rgb(17,17,17)\",\"width\":0.5},\"pattern\":{\"fillmode\":\"overlay\",\"size\":10,\"solidity\":0.2}},\"type\":\"bar\"}],\"barpolar\":[{\"marker\":{\"line\":{\"color\":\"rgb(17,17,17)\",\"width\":0.5},\"pattern\":{\"fillmode\":\"overlay\",\"size\":10,\"solidity\":0.2}},\"type\":\"barpolar\"}],\"carpet\":[{\"aaxis\":{\"endlinecolor\":\"#A2B1C6\",\"gridcolor\":\"#506784\",\"linecolor\":\"#506784\",\"minorgridcolor\":\"#506784\",\"startlinecolor\":\"#A2B1C6\"},\"baxis\":{\"endlinecolor\":\"#A2B1C6\",\"gridcolor\":\"#506784\",\"linecolor\":\"#506784\",\"minorgridcolor\":\"#506784\",\"startlinecolor\":\"#A2B1C6\"},\"type\":\"carpet\"}],\"choropleth\":[{\"colorbar\":{\"outlinewidth\":0,\"ticks\":\"\"},\"type\":\"choropleth\"}],\"contour\":[{\"colorbar\":{\"outlinewidth\":0,\"ticks\":\"\"},\"colorscale\":[[0.0,\"#0d0887\"],[0.1111111111111111,\"#46039f\"],[0.2222222222222222,\"#7201a8\"],[0.3333333333333333,\"#9c179e\"],[0.4444444444444444,\"#bd3786\"],[0.5555555555555556,\"#d8576b\"],[0.6666666666666666,\"#ed7953\"],[0.7777777777777778,\"#fb9f3a\"],[0.8888888888888888,\"#fdca26\"],[1.0,\"#f0f921\"]],\"type\":\"contour\"}],\"contourcarpet\":[{\"colorbar\":{\"outlinewidth\":0,\"ticks\":\"\"},\"type\":\"contourcarpet\"}],\"heatmap\":[{\"colorbar\":{\"outlinewidth\":0,\"ticks\":\"\"},\"colorscale\":[[0.0,\"#0d0887\"],[0.1111111111111111,\"#46039f\"],[0.2222222222222222,\"#7201a8\"],[0.3333333333333333,\"#9c179e\"],[0.4444444444444444,\"#bd3786\"],[0.5555555555555556,\"#d8576b\"],[0.6666666666666666,\"#ed7953\"],[0.7777777777777778,\"#fb9f3a\"],[0.8888888888888888,\"#fdca26\"],[1.0,\"#f0f921\"]],\"type\":\"heatmap\"}],\"heatmapgl\":[{\"colorbar\":{\"outlinewidth\":0,\"ticks\":\"\"},\"colorscale\":[[0.0,\"#0d0887\"],[0.1111111111111111,\"#46039f\"],[0.2222222222222222,\"#7201a8\"],[0.3333333333333333,\"#9c179e\"],[0.4444444444444444,\"#bd3786\"],[0.5555555555555556,\"#d8576b\"],[0.6666666666666666,\"#ed7953\"],[0.7777777777777778,\"#fb9f3a\"],[0.8888888888888888,\"#fdca26\"],[1.0,\"#f0f921\"]],\"type\":\"heatmapgl\"}],\"histogram\":[{\"marker\":{\"pattern\":{\"fillmode\":\"overlay\",\"size\":10,\"solidity\":0.2}},\"type\":\"histogram\"}],\"histogram2d\":[{\"colorbar\":{\"outlinewidth\":0,\"ticks\":\"\"},\"colorscale\":[[0.0,\"#0d0887\"],[0.1111111111111111,\"#46039f\"],[0.2222222222222222,\"#7201a8\"],[0.3333333333333333,\"#9c179e\"],[0.4444444444444444,\"#bd3786\"],[0.5555555555555556,\"#d8576b\"],[0.6666666666666666,\"#ed7953\"],[0.7777777777777778,\"#fb9f3a\"],[0.8888888888888888,\"#fdca26\"],[1.0,\"#f0f921\"]],\"type\":\"histogram2d\"}],\"histogram2dcontour\":[{\"colorbar\":{\"outlinewidth\":0,\"ticks\":\"\"},\"colorscale\":[[0.0,\"#0d0887\"],[0.1111111111111111,\"#46039f\"],[0.2222222222222222,\"#7201a8\"],[0.3333333333333333,\"#9c179e\"],[0.4444444444444444,\"#bd3786\"],[0.5555555555555556,\"#d8576b\"],[0.6666666666666666,\"#ed7953\"],[0.7777777777777778,\"#fb9f3a\"],[0.8888888888888888,\"#fdca26\"],[1.0,\"#f0f921\"]],\"type\":\"histogram2dcontour\"}],\"mesh3d\":[{\"colorbar\":{\"outlinewidth\":0,\"ticks\":\"\"},\"type\":\"mesh3d\"}],\"parcoords\":[{\"line\":{\"colorbar\":{\"outlinewidth\":0,\"ticks\":\"\"}},\"type\":\"parcoords\"}],\"pie\":[{\"automargin\":true,\"type\":\"pie\"}],\"scatter\":[{\"marker\":{\"line\":{\"color\":\"#283442\"}},\"type\":\"scatter\"}],\"scatter3d\":[{\"line\":{\"colorbar\":{\"outlinewidth\":0,\"ticks\":\"\"}},\"marker\":{\"colorbar\":{\"outlinewidth\":0,\"ticks\":\"\"}},\"type\":\"scatter3d\"}],\"scattercarpet\":[{\"marker\":{\"colorbar\":{\"outlinewidth\":0,\"ticks\":\"\"}},\"type\":\"scattercarpet\"}],\"scattergeo\":[{\"marker\":{\"colorbar\":{\"outlinewidth\":0,\"ticks\":\"\"}},\"type\":\"scattergeo\"}],\"scattergl\":[{\"marker\":{\"line\":{\"color\":\"#283442\"}},\"type\":\"scattergl\"}],\"scattermapbox\":[{\"marker\":{\"colorbar\":{\"outlinewidth\":0,\"ticks\":\"\"}},\"type\":\"scattermapbox\"}],\"scatterpolar\":[{\"marker\":{\"colorbar\":{\"outlinewidth\":0,\"ticks\":\"\"}},\"type\":\"scatterpolar\"}],\"scatterpolargl\":[{\"marker\":{\"colorbar\":{\"outlinewidth\":0,\"ticks\":\"\"}},\"type\":\"scatterpolargl\"}],\"scatterternary\":[{\"marker\":{\"colorbar\":{\"outlinewidth\":0,\"ticks\":\"\"}},\"type\":\"scatterternary\"}],\"surface\":[{\"colorbar\":{\"outlinewidth\":0,\"ticks\":\"\"},\"colorscale\":[[0.0,\"#0d0887\"],[0.1111111111111111,\"#46039f\"],[0.2222222222222222,\"#7201a8\"],[0.3333333333333333,\"#9c179e\"],[0.4444444444444444,\"#bd3786\"],[0.5555555555555556,\"#d8576b\"],[0.6666666666666666,\"#ed7953\"],[0.7777777777777778,\"#fb9f3a\"],[0.8888888888888888,\"#fdca26\"],[1.0,\"#f0f921\"]],\"type\":\"surface\"}],\"table\":[{\"cells\":{\"fill\":{\"color\":\"#506784\"},\"line\":{\"color\":\"rgb(17,17,17)\"}},\"header\":{\"fill\":{\"color\":\"#2a3f5f\"},\"line\":{\"color\":\"rgb(17,17,17)\"}},\"type\":\"table\"}]},\"layout\":{\"annotationdefaults\":{\"arrowcolor\":\"#f2f5fa\",\"arrowhead\":0,\"arrowwidth\":1},\"autotypenumbers\":\"strict\",\"coloraxis\":{\"colorbar\":{\"outlinewidth\":0,\"ticks\":\"\"}},\"colorscale\":{\"diverging\":[[0,\"#8e0152\"],[0.1,\"#c51b7d\"],[0.2,\"#de77ae\"],[0.3,\"#f1b6da\"],[0.4,\"#fde0ef\"],[0.5,\"#f7f7f7\"],[0.6,\"#e6f5d0\"],[0.7,\"#b8e186\"],[0.8,\"#7fbc41\"],[0.9,\"#4d9221\"],[1,\"#276419\"]],\"sequential\":[[0.0,\"#0d0887\"],[0.1111111111111111,\"#46039f\"],[0.2222222222222222,\"#7201a8\"],[0.3333333333333333,\"#9c179e\"],[0.4444444444444444,\"#bd3786\"],[0.5555555555555556,\"#d8576b\"],[0.6666666666666666,\"#ed7953\"],[0.7777777777777778,\"#fb9f3a\"],[0.8888888888888888,\"#fdca26\"],[1.0,\"#f0f921\"]],\"sequentialminus\":[[0.0,\"#0d0887\"],[0.1111111111111111,\"#46039f\"],[0.2222222222222222,\"#7201a8\"],[0.3333333333333333,\"#9c179e\"],[0.4444444444444444,\"#bd3786\"],[0.5555555555555556,\"#d8576b\"],[0.6666666666666666,\"#ed7953\"],[0.7777777777777778,\"#fb9f3a\"],[0.8888888888888888,\"#fdca26\"],[1.0,\"#f0f921\"]]},\"colorway\":[\"#636efa\",\"#EF553B\",\"#00cc96\",\"#ab63fa\",\"#FFA15A\",\"#19d3f3\",\"#FF6692\",\"#B6E880\",\"#FF97FF\",\"#FECB52\"],\"font\":{\"color\":\"#f2f5fa\"},\"geo\":{\"bgcolor\":\"rgb(17,17,17)\",\"lakecolor\":\"rgb(17,17,17)\",\"landcolor\":\"rgb(17,17,17)\",\"showlakes\":true,\"showland\":true,\"subunitcolor\":\"#506784\"},\"hoverlabel\":{\"align\":\"left\"},\"hovermode\":\"closest\",\"mapbox\":{\"style\":\"dark\"},\"paper_bgcolor\":\"rgb(17,17,17)\",\"plot_bgcolor\":\"rgb(17,17,17)\",\"polar\":{\"angularaxis\":{\"gridcolor\":\"#506784\",\"linecolor\":\"#506784\",\"ticks\":\"\"},\"bgcolor\":\"rgb(17,17,17)\",\"radialaxis\":{\"gridcolor\":\"#506784\",\"linecolor\":\"#506784\",\"ticks\":\"\"}},\"scene\":{\"xaxis\":{\"backgroundcolor\":\"rgb(17,17,17)\",\"gridcolor\":\"#506784\",\"gridwidth\":2,\"linecolor\":\"#506784\",\"showbackground\":true,\"ticks\":\"\",\"zerolinecolor\":\"#C8D4E3\"},\"yaxis\":{\"backgroundcolor\":\"rgb(17,17,17)\",\"gridcolor\":\"#506784\",\"gridwidth\":2,\"linecolor\":\"#506784\",\"showbackground\":true,\"ticks\":\"\",\"zerolinecolor\":\"#C8D4E3\"},\"zaxis\":{\"backgroundcolor\":\"rgb(17,17,17)\",\"gridcolor\":\"#506784\",\"gridwidth\":2,\"linecolor\":\"#506784\",\"showbackground\":true,\"ticks\":\"\",\"zerolinecolor\":\"#C8D4E3\"}},\"shapedefaults\":{\"line\":{\"color\":\"#f2f5fa\"}},\"sliderdefaults\":{\"bgcolor\":\"#C8D4E3\",\"bordercolor\":\"rgb(17,17,17)\",\"borderwidth\":1,\"tickwidth\":0},\"ternary\":{\"aaxis\":{\"gridcolor\":\"#506784\",\"linecolor\":\"#506784\",\"ticks\":\"\"},\"baxis\":{\"gridcolor\":\"#506784\",\"linecolor\":\"#506784\",\"ticks\":\"\"},\"bgcolor\":\"rgb(17,17,17)\",\"caxis\":{\"gridcolor\":\"#506784\",\"linecolor\":\"#506784\",\"ticks\":\"\"}},\"title\":{\"x\":0.05},\"updatemenudefaults\":{\"bgcolor\":\"#506784\",\"borderwidth\":0},\"xaxis\":{\"automargin\":true,\"gridcolor\":\"#283442\",\"linecolor\":\"#506784\",\"ticks\":\"\",\"title\":{\"standoff\":15},\"zerolinecolor\":\"#283442\",\"zerolinewidth\":2},\"yaxis\":{\"automargin\":true,\"gridcolor\":\"#283442\",\"linecolor\":\"#506784\",\"ticks\":\"\",\"title\":{\"standoff\":15},\"zerolinecolor\":\"#283442\",\"zerolinewidth\":2}}}},                        {\"responsive\": true}                    ).then(function(){\n",
       "                            \n",
       "var gd = document.getElementById('8ea1a79b-9ce8-472f-92cc-72cde3932ed2');\n",
       "var x = new MutationObserver(function (mutations, observer) {{\n",
       "        var display = window.getComputedStyle(gd).display;\n",
       "        if (!display || display === 'none') {{\n",
       "            console.log([gd, 'removed!']);\n",
       "            Plotly.purge(gd);\n",
       "            observer.disconnect();\n",
       "        }}\n",
       "}});\n",
       "\n",
       "// Listen for the removal of the full notebook cells\n",
       "var notebookContainer = gd.closest('#notebook-container');\n",
       "if (notebookContainer) {{\n",
       "    x.observe(notebookContainer, {childList: true});\n",
       "}}\n",
       "\n",
       "// Listen for the clearing of the current output cell\n",
       "var outputEl = gd.closest('.output');\n",
       "if (outputEl) {{\n",
       "    x.observe(outputEl, {childList: true});\n",
       "}}\n",
       "\n",
       "                        })                };                });            </script>        </div>"
      ]
     },
     "metadata": {},
     "output_type": "display_data"
    }
   ],
   "source": [
    "import plotly.express as px\n",
    "from data import countries_df\n",
    "\n",
    "print(countries_df.head())\n",
    "\n",
    "fig = px.scatter_geo(countries_df,\n",
    "                     size='Confirmed',\n",
    "                     size_max = 50,\n",
    "                     color='Confirmed',\n",
    "                     hover_name='Country_Region',\n",
    "                     locations='Country_Region',\n",
    "                     locationmode='country names',\n",
    "                     template='plotly_dark',\n",
    "                     projection='natural earth',\n",
    "                     hover_data={\n",
    "                         'Confirmed':':,2f',\n",
    "                         'Deaths':':,2f',\n",
    "                         'Recovered':':,2f',\n",
    "                         'Country_Region':False,\n",
    "                     })\n",
    "fig.show()"
   ]
  }
 ],
 "metadata": {
  "kernelspec": {
   "display_name": "Python 3",
   "language": "python",
   "name": "python3"
  },
  "language_info": {
   "codemirror_mode": {
    "name": "ipython",
    "version": 3
   },
   "file_extension": ".py",
   "mimetype": "text/x-python",
   "name": "python",
   "nbconvert_exporter": "python",
   "pygments_lexer": "ipython3",
   "version": "3.6.9"
  }
 },
 "nbformat": 4,
 "nbformat_minor": 5
}
